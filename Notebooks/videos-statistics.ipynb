{
 "cells": [
  {
   "cell_type": "markdown",
   "metadata": {},
   "source": [
    "# Videos Statistics\n",
    "\n",
    "This notebooks computes descriptive statistics of the videos encountered during the study."
   ]
  },
  {
   "cell_type": "code",
   "execution_count": 1,
   "metadata": {},
   "outputs": [],
   "source": [
    "import os\n",
    "import pandas as pd\n",
    "import numpy as np\n",
    "import seaborn as sns"
   ]
  },
  {
   "cell_type": "code",
   "execution_count": 2,
   "metadata": {},
   "outputs": [],
   "source": [
    "RAW_DATA_PATH = os.path.join('..', 'Data', 'raw_data')\n",
    "NORMALIZED_DATA_PATH = os.path.join('..', 'Data', 'normalized_data')"
   ]
  },
  {
   "cell_type": "markdown",
   "metadata": {},
   "source": [
    "## Encountered videos"
   ]
  },
  {
   "cell_type": "code",
   "execution_count": 3,
   "metadata": {},
   "outputs": [],
   "source": [
    "home = pd.read_csv(os.path.join(RAW_DATA_PATH, 'home_page_results.csv'))\n",
    "search = pd.read_csv(os.path.join(RAW_DATA_PATH, 'search_results.csv'))\n",
    "recommend = pd.read_csv(os.path.join(RAW_DATA_PATH, 'recommendations.csv'))"
   ]
  },
  {
   "cell_type": "code",
   "execution_count": 4,
   "metadata": {},
   "outputs": [],
   "source": [
    "encountered_home = home.groupby('youtube_id').size()\n",
    "encountered_search = search.groupby('youtube_id').size()\n",
    "encountered_recommend = recommend.groupby('youtube_id').size()"
   ]
  },
  {
   "cell_type": "code",
   "execution_count": 5,
   "metadata": {},
   "outputs": [
    {
     "name": "stdout",
     "output_type": "stream",
     "text": [
      "There are 116479 videos encountered on home page, 9977 are unique.\n",
      "There are 201404 videos encountered in search results, 942 are unique.\n",
      "There are 78763 videos encountered in recommendations, 8526 are unique.\n"
     ]
    }
   ],
   "source": [
    "print(f'There are {home.shape[0]} videos encountered on home page, {encountered_home.shape[0]} are unique.')\n",
    "print(f'There are {search.shape[0]} videos encountered in search results, {encountered_search.shape[0]} are unique.')\n",
    "print(f'There are {recommend.shape[0]} videos encountered in recommendations, {encountered_recommend.shape[0]} are unique.')"
   ]
  },
  {
   "cell_type": "code",
   "execution_count": 6,
   "metadata": {},
   "outputs": [],
   "source": [
    "total = pd.concat([home, search, recommend])"
   ]
  },
  {
   "cell_type": "code",
   "execution_count": 7,
   "metadata": {},
   "outputs": [
    {
     "name": "stdout",
     "output_type": "stream",
     "text": [
      "In total, there are 396646 encountered videos, 17405 are unique.\n"
     ]
    }
   ],
   "source": [
    "print(f'In total, there are {total.shape[0]} encountered videos, {len(total[\"youtube_id\"].unique())} are unique.')"
   ]
  },
  {
   "cell_type": "markdown",
   "metadata": {},
   "source": [
    "## Distribution of manual labels\n",
    "\n",
    "Promoting and debunking videos include those related as well as unrelated to respective topics. Debunking videos also include those manually annotated as mocking videos. In further analyses presented in the paper as well as in the classification model, we do not distinguish between neutral videos and videos labeled as not about misinformation (both are regarded as neutral). The other videos include videos that were manually labeled as unknown, non-English or removed.\n",
    "\n",
    "We do not publish predicted labels for individual videos due to ethical concerns."
   ]
  },
  {
   "cell_type": "code",
   "execution_count": 8,
   "metadata": {},
   "outputs": [],
   "source": [
    "encountered_normalized = pd.read_csv(os.path.join(NORMALIZED_DATA_PATH, 'encountered_videos.csv'))"
   ]
  },
  {
   "cell_type": "code",
   "execution_count": 9,
   "metadata": {},
   "outputs": [
    {
     "name": "stdout",
     "output_type": "stream",
     "text": [
      "There are 2914 manually labeled videos.\n"
     ]
    }
   ],
   "source": [
    "print(f'There are {encountered_normalized.shape[0]} manually labeled videos.')"
   ]
  },
  {
   "cell_type": "code",
   "execution_count": 10,
   "metadata": {},
   "outputs": [
    {
     "data": {
      "text/plain": [
       "not about misinfo    1827\n",
       "debunking             628\n",
       "promoting             244\n",
       "neutral               186\n",
       "other                  29\n",
       "Name: original_label, dtype: int64"
      ]
     },
     "execution_count": 10,
     "metadata": {},
     "output_type": "execute_result"
    }
   ],
   "source": [
    "encountered_normalized['original_label'].value_counts()"
   ]
  },
  {
   "cell_type": "markdown",
   "metadata": {},
   "source": [
    "## Descriptive statistics\n",
    "\n",
    "Descriptive statistics of the collected data with respect to the length of videos (#minutes) and how many times they appeared during data collection (#encounters). The statistics are computed for a subset of 15,837 videos (out of all 17,405 encountered videos), for which we were able to obtain metadata. We collected videos’ metadata using YouTube API some time after the data collection itself. This meant that we were not able to get metadata for all encountered videos, e.g., in cases when the videos were removed by the authors or by the platform.\n",
    "\n",
    "Most of the columns of `videos_metadata.csv` are empty. Use [`get-train-and-encountered-data.ipynb`](get-train-and-encountered-data.ipynb) to retrieve additional metadata."
   ]
  },
  {
   "cell_type": "code",
   "execution_count": 11,
   "metadata": {},
   "outputs": [],
   "source": [
    "metadata = pd.read_csv(os.path.join(NORMALIZED_DATA_PATH, 'videos_metadata.csv'))"
   ]
  },
  {
   "cell_type": "code",
   "execution_count": 12,
   "metadata": {},
   "outputs": [
    {
     "name": "stdout",
     "output_type": "stream",
     "text": [
      "<class 'pandas.core.frame.DataFrame'>\n",
      "RangeIndex: 15837 entries, 0 to 15836\n",
      "Data columns (total 18 columns):\n",
      " #   Column                 Non-Null Count  Dtype  \n",
      "---  ------                 --------------  -----  \n",
      " 0   youtube_id             15837 non-null  object \n",
      " 1   published_at           0 non-null      float64\n",
      " 2   title                  0 non-null      float64\n",
      " 3   description            0 non-null      float64\n",
      " 4   channel_id             0 non-null      float64\n",
      " 5   language               0 non-null      float64\n",
      " 6   duration_seconds       15837 non-null  int64  \n",
      " 7   duration_minutes       15837 non-null  float64\n",
      " 8   duration_hours         15837 non-null  float64\n",
      " 9   view_count             0 non-null      float64\n",
      " 10  like_count             0 non-null      float64\n",
      " 11  dislike_count          0 non-null      float64\n",
      " 12  favorite_count         0 non-null      float64\n",
      " 13  comment_count          0 non-null      float64\n",
      " 14  encountered_home       15837 non-null  int64  \n",
      " 15  encountered_search     15837 non-null  int64  \n",
      " 16  encountered_recommend  15837 non-null  int64  \n",
      " 17  encountered_all        15837 non-null  int64  \n",
      "dtypes: float64(12), int64(5), object(1)\n",
      "memory usage: 2.2+ MB\n"
     ]
    }
   ],
   "source": [
    "metadata.info()"
   ]
  },
  {
   "cell_type": "code",
   "execution_count": 13,
   "metadata": {},
   "outputs": [
    {
     "data": {
      "text/plain": [
       "count    15837.000000\n",
       "mean        45.418716\n",
       "std        108.868920\n",
       "min          0.000000\n",
       "25%          7.733333\n",
       "50%         14.733333\n",
       "75%         39.716667\n",
       "90%         92.693333\n",
       "max       1439.883333\n",
       "Name: duration_minutes, dtype: float64"
      ]
     },
     "execution_count": 13,
     "metadata": {},
     "output_type": "execute_result"
    }
   ],
   "source": [
    "metadata['duration_minutes'].describe(percentiles=[.25, .5, .75, .9])"
   ]
  },
  {
   "cell_type": "code",
   "execution_count": 14,
   "metadata": {},
   "outputs": [
    {
     "data": {
      "text/plain": [
       "count    15837.000000\n",
       "mean        20.408600\n",
       "std        112.920578\n",
       "min          1.000000\n",
       "25%          1.000000\n",
       "50%          2.000000\n",
       "75%          5.000000\n",
       "90%         21.000000\n",
       "max       2695.000000\n",
       "Name: encountered_all, dtype: float64"
      ]
     },
     "execution_count": 14,
     "metadata": {},
     "output_type": "execute_result"
    }
   ],
   "source": [
    "metadata['encountered_all'].describe(percentiles=[.25, .5, .75, .9])"
   ]
  }
 ],
 "metadata": {
  "kernelspec": {
   "display_name": "Python 3.8.10 ('.venv': venv)",
   "language": "python",
   "name": "python3"
  },
  "language_info": {
   "codemirror_mode": {
    "name": "ipython",
    "version": 3
   },
   "file_extension": ".py",
   "mimetype": "text/x-python",
   "name": "python",
   "nbconvert_exporter": "python",
   "pygments_lexer": "ipython3",
   "version": "3.8.10"
  },
  "orig_nbformat": 4,
  "vscode": {
   "interpreter": {
    "hash": "57e8ab2c44c7cc3097d31685c867aa29b59a70c4aee7409180d9015f3b8ee2df"
   }
  }
 },
 "nbformat": 4,
 "nbformat_minor": 2
}
