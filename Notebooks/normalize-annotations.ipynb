{
  "nbformat": 4,
  "nbformat_minor": 0,
  "metadata": {
    "colab": {
      "name": "normalize-annotations.ipynb",
      "provenance": [],
      "collapsed_sections": []
    },
    "kernelspec": {
      "name": "python3",
      "display_name": "Python 3"
    },
    "language_info": {
      "name": "python"
    }
  },
  "cells": [
    {
      "cell_type": "markdown",
      "source": [
        "# Normalization of labels for our annotated videos"
      ],
      "metadata": {
        "id": "MgY1-s4rycLY"
      }
    },
    {
      "cell_type": "markdown",
      "source": [
        "This notebook contains code for normalizing our annotations and saving them in a unified file for easier work with them (mapping, analysing, etc.)"
      ],
      "metadata": {
        "id": "3Z9WihSAyfj3"
      }
    },
    {
      "cell_type": "code",
      "metadata": {
        "id": "RE9D-LTxpnzg"
      },
      "source": [
        "import os\n",
        "import pandas as pd\n",
        "import numpy as np"
      ],
      "execution_count": null,
      "outputs": []
    },
    {
      "cell_type": "code",
      "source": [
        "RAW_DATA_PATH = os.path.join('..', 'Data', 'raw_data')\n",
        "NORMALIZED_DATA_PATH = os.path.join('..', 'Data', 'normalized_data')"
      ],
      "metadata": {
        "id": "wIuCl0X9cFHU"
      },
      "execution_count": null,
      "outputs": []
    },
    {
      "cell_type": "markdown",
      "source": [
        "## Load data"
      ],
      "metadata": {
        "id": "i6NLE3fUyrh1"
      }
    },
    {
      "cell_type": "code",
      "source": [
        "recommendations = pd.read_csv(os.path.join(RAW_DATA_PATH, 'raw_data', 'recommendations.csv'))\n",
        "search_results = pd.read_csv(os.path.join(RAW_DATA_PATH, 'search_results.csv'))"
      ],
      "metadata": {
        "id": "1mahrFk_cKaA"
      },
      "execution_count": null,
      "outputs": []
    },
    {
      "cell_type": "markdown",
      "source": [
        "Drop videos where no annotation was given"
      ],
      "metadata": {
        "id": "CZLCUsF_d8yG"
      }
    },
    {
      "cell_type": "code",
      "source": [
        "recommendations = recommendations.loc[recommendations['annotation'] != -2.0]\n",
        "search_results = search_results.loc[search_results['annotation'] != -2.0]"
      ],
      "metadata": {
        "id": "jWD9sw6tduQh"
      },
      "execution_count": null,
      "outputs": []
    },
    {
      "cell_type": "code",
      "source": [
        "combined = pd.concat([recommendations, search_results])"
      ],
      "metadata": {
        "id": "TaP-lqPrd0fg"
      },
      "execution_count": null,
      "outputs": []
    },
    {
      "cell_type": "markdown",
      "source": [
        "## Aggregate all annotations for individual videos"
      ],
      "metadata": {
        "id": "SJzivnjYywCn"
      }
    },
    {
      "cell_type": "code",
      "source": [
        "video_to_label_mapping = {}\n",
        "\n",
        "for index, video in combined.iterrows():\n",
        "    if video['youtube_id'] not in video_to_label_mapping:\n",
        "        video_to_label_mapping[video['youtube_id']] = set()\n",
        "    video_to_label_mapping[video['youtube_id']].add(video['annotation'])"
      ],
      "metadata": {
        "id": "B2NnUNJEcY2-"
      },
      "execution_count": null,
      "outputs": []
    },
    {
      "cell_type": "markdown",
      "source": [
        "## Map aggregated annotations to final normalized label"
      ],
      "metadata": {
        "id": "NnVZSi2oy37b"
      }
    },
    {
      "cell_type": "code",
      "source": [
        "normalization_mapping = {\n",
        "    -1: -1,\n",
        "    0: 0,\n",
        "    1: 1,\n",
        "    2: -1,\n",
        "    3: 0,\n",
        "    4: 1,\n",
        "    5: 0,\n",
        "    6: np.NaN,\n",
        "    7: np.NaN,\n",
        "    8: np.NaN\n",
        "}"
      ],
      "metadata": {
        "id": "AL7wmKDIePVt"
      },
      "execution_count": null,
      "outputs": []
    },
    {
      "cell_type": "code",
      "source": [
        "normalized_unique_videos = []\n",
        "\n",
        "for video_id, annotations in video_to_label_mapping.items():\n",
        "    rating = 7\n",
        "    # Video has only one unique annotation\n",
        "    if len(annotations) == 1:\n",
        "        rating = annotations.pop()\n",
        "    # Video has more than one unique annotations\n",
        "    else:\n",
        "        if bool(set([1, 4]) & annotations) and not bool(set([-1, 2]) & annotations):\n",
        "            rating = 1\n",
        "        elif bool(set([-1, 2]) & annotations) and not bool(set([1, 4]) & annotations):\n",
        "            rating = -1\n",
        "        elif bool(set([0, 3, 5]) & annotations) and not bool(set([-1, 2, 1, 4]) & annotations):\n",
        "            rating = 0\n",
        "        # Video id \"az6c7negl6o\" is problematic in our raw data, containing both promoting and debunking views. Our consensus is the video is promoting\n",
        "        elif (video_id == 'az6c7negl6o'):\n",
        "            rating = 1\n",
        "    normalized_rating = normalization_mapping[rating]\n",
        "    normalized_unique_videos.append((video_id, normalized_rating))"
      ],
      "metadata": {
        "id": "4NtZ7BTPc--Y"
      },
      "execution_count": null,
      "outputs": []
    },
    {
      "cell_type": "markdown",
      "source": [
        "## Save data with normalized labels"
      ],
      "metadata": {
        "id": "QVNDoUYYy7eF"
      }
    },
    {
      "cell_type": "code",
      "source": [
        "data_with_normalized_labels = pd.DataFrame(normalized_unique_videos, columns=['youtube_id', 'normalized_label'])\n",
        "data_with_normalized_labels"
      ],
      "metadata": {
        "colab": {
          "base_uri": "https://localhost:8080/",
          "height": 423
        },
        "id": "npNiya8Nimv-",
        "outputId": "b53adf81-ce3e-4166-d615-2de936a86ee5"
      },
      "execution_count": null,
      "outputs": [
        {
          "output_type": "execute_result",
          "data": {
            "text/plain": [
              "       youtube_id  normalized_label\n",
              "0     W0lWsqAwYwY               0.0\n",
              "1     6mMK6iSZsAs              -1.0\n",
              "2     WYPNjSoDrqw               0.0\n",
              "3     JHQ8UAjoVVc               0.0\n",
              "4     9vJRopau0g0               0.0\n",
              "...           ...               ...\n",
              "2909  BIDlAPNwbS8               0.0\n",
              "2910  8dpkmUjJ8xU              -1.0\n",
              "2911  WCwXJMVVdck               0.0\n",
              "2912  Ms65JBrevYU               0.0\n",
              "2913  WF06IhEUDfI              -1.0\n",
              "\n",
              "[2914 rows x 2 columns]"
            ],
            "text/html": [
              "\n",
              "  <div id=\"df-d8365edb-ece7-4d68-8390-c3357c19c091\">\n",
              "    <div class=\"colab-df-container\">\n",
              "      <div>\n",
              "<style scoped>\n",
              "    .dataframe tbody tr th:only-of-type {\n",
              "        vertical-align: middle;\n",
              "    }\n",
              "\n",
              "    .dataframe tbody tr th {\n",
              "        vertical-align: top;\n",
              "    }\n",
              "\n",
              "    .dataframe thead th {\n",
              "        text-align: right;\n",
              "    }\n",
              "</style>\n",
              "<table border=\"1\" class=\"dataframe\">\n",
              "  <thead>\n",
              "    <tr style=\"text-align: right;\">\n",
              "      <th></th>\n",
              "      <th>youtube_id</th>\n",
              "      <th>normalized_label</th>\n",
              "    </tr>\n",
              "  </thead>\n",
              "  <tbody>\n",
              "    <tr>\n",
              "      <th>0</th>\n",
              "      <td>W0lWsqAwYwY</td>\n",
              "      <td>0.0</td>\n",
              "    </tr>\n",
              "    <tr>\n",
              "      <th>1</th>\n",
              "      <td>6mMK6iSZsAs</td>\n",
              "      <td>-1.0</td>\n",
              "    </tr>\n",
              "    <tr>\n",
              "      <th>2</th>\n",
              "      <td>WYPNjSoDrqw</td>\n",
              "      <td>0.0</td>\n",
              "    </tr>\n",
              "    <tr>\n",
              "      <th>3</th>\n",
              "      <td>JHQ8UAjoVVc</td>\n",
              "      <td>0.0</td>\n",
              "    </tr>\n",
              "    <tr>\n",
              "      <th>4</th>\n",
              "      <td>9vJRopau0g0</td>\n",
              "      <td>0.0</td>\n",
              "    </tr>\n",
              "    <tr>\n",
              "      <th>...</th>\n",
              "      <td>...</td>\n",
              "      <td>...</td>\n",
              "    </tr>\n",
              "    <tr>\n",
              "      <th>2909</th>\n",
              "      <td>BIDlAPNwbS8</td>\n",
              "      <td>0.0</td>\n",
              "    </tr>\n",
              "    <tr>\n",
              "      <th>2910</th>\n",
              "      <td>8dpkmUjJ8xU</td>\n",
              "      <td>-1.0</td>\n",
              "    </tr>\n",
              "    <tr>\n",
              "      <th>2911</th>\n",
              "      <td>WCwXJMVVdck</td>\n",
              "      <td>0.0</td>\n",
              "    </tr>\n",
              "    <tr>\n",
              "      <th>2912</th>\n",
              "      <td>Ms65JBrevYU</td>\n",
              "      <td>0.0</td>\n",
              "    </tr>\n",
              "    <tr>\n",
              "      <th>2913</th>\n",
              "      <td>WF06IhEUDfI</td>\n",
              "      <td>-1.0</td>\n",
              "    </tr>\n",
              "  </tbody>\n",
              "</table>\n",
              "<p>2914 rows × 2 columns</p>\n",
              "</div>\n",
              "      <button class=\"colab-df-convert\" onclick=\"convertToInteractive('df-d8365edb-ece7-4d68-8390-c3357c19c091')\"\n",
              "              title=\"Convert this dataframe to an interactive table.\"\n",
              "              style=\"display:none;\">\n",
              "        \n",
              "  <svg xmlns=\"http://www.w3.org/2000/svg\" height=\"24px\"viewBox=\"0 0 24 24\"\n",
              "       width=\"24px\">\n",
              "    <path d=\"M0 0h24v24H0V0z\" fill=\"none\"/>\n",
              "    <path d=\"M18.56 5.44l.94 2.06.94-2.06 2.06-.94-2.06-.94-.94-2.06-.94 2.06-2.06.94zm-11 1L8.5 8.5l.94-2.06 2.06-.94-2.06-.94L8.5 2.5l-.94 2.06-2.06.94zm10 10l.94 2.06.94-2.06 2.06-.94-2.06-.94-.94-2.06-.94 2.06-2.06.94z\"/><path d=\"M17.41 7.96l-1.37-1.37c-.4-.4-.92-.59-1.43-.59-.52 0-1.04.2-1.43.59L10.3 9.45l-7.72 7.72c-.78.78-.78 2.05 0 2.83L4 21.41c.39.39.9.59 1.41.59.51 0 1.02-.2 1.41-.59l7.78-7.78 2.81-2.81c.8-.78.8-2.07 0-2.86zM5.41 20L4 18.59l7.72-7.72 1.47 1.35L5.41 20z\"/>\n",
              "  </svg>\n",
              "      </button>\n",
              "      \n",
              "  <style>\n",
              "    .colab-df-container {\n",
              "      display:flex;\n",
              "      flex-wrap:wrap;\n",
              "      gap: 12px;\n",
              "    }\n",
              "\n",
              "    .colab-df-convert {\n",
              "      background-color: #E8F0FE;\n",
              "      border: none;\n",
              "      border-radius: 50%;\n",
              "      cursor: pointer;\n",
              "      display: none;\n",
              "      fill: #1967D2;\n",
              "      height: 32px;\n",
              "      padding: 0 0 0 0;\n",
              "      width: 32px;\n",
              "    }\n",
              "\n",
              "    .colab-df-convert:hover {\n",
              "      background-color: #E2EBFA;\n",
              "      box-shadow: 0px 1px 2px rgba(60, 64, 67, 0.3), 0px 1px 3px 1px rgba(60, 64, 67, 0.15);\n",
              "      fill: #174EA6;\n",
              "    }\n",
              "\n",
              "    [theme=dark] .colab-df-convert {\n",
              "      background-color: #3B4455;\n",
              "      fill: #D2E3FC;\n",
              "    }\n",
              "\n",
              "    [theme=dark] .colab-df-convert:hover {\n",
              "      background-color: #434B5C;\n",
              "      box-shadow: 0px 1px 3px 1px rgba(0, 0, 0, 0.15);\n",
              "      filter: drop-shadow(0px 1px 2px rgba(0, 0, 0, 0.3));\n",
              "      fill: #FFFFFF;\n",
              "    }\n",
              "  </style>\n",
              "\n",
              "      <script>\n",
              "        const buttonEl =\n",
              "          document.querySelector('#df-d8365edb-ece7-4d68-8390-c3357c19c091 button.colab-df-convert');\n",
              "        buttonEl.style.display =\n",
              "          google.colab.kernel.accessAllowed ? 'block' : 'none';\n",
              "\n",
              "        async function convertToInteractive(key) {\n",
              "          const element = document.querySelector('#df-d8365edb-ece7-4d68-8390-c3357c19c091');\n",
              "          const dataTable =\n",
              "            await google.colab.kernel.invokeFunction('convertToInteractive',\n",
              "                                                     [key], {});\n",
              "          if (!dataTable) return;\n",
              "\n",
              "          const docLinkHtml = 'Like what you see? Visit the ' +\n",
              "            '<a target=\"_blank\" href=https://colab.research.google.com/notebooks/data_table.ipynb>data table notebook</a>'\n",
              "            + ' to learn more about interactive tables.';\n",
              "          element.innerHTML = '';\n",
              "          dataTable['output_type'] = 'display_data';\n",
              "          await google.colab.output.renderOutput(dataTable, element);\n",
              "          const docLink = document.createElement('div');\n",
              "          docLink.innerHTML = docLinkHtml;\n",
              "          element.appendChild(docLink);\n",
              "        }\n",
              "      </script>\n",
              "    </div>\n",
              "  </div>\n",
              "  "
            ]
          },
          "metadata": {},
          "execution_count": 65
        }
      ]
    },
    {
      "cell_type": "code",
      "source": [
        "data_with_normalized_labels.to_csv(os.path.join(NORMALIZED_DATA_PATH, 'encountered_videos.csv'))"
      ],
      "metadata": {
        "id": "IXLJRvLTjiTM"
      },
      "execution_count": null,
      "outputs": []
    },
    {
      "cell_type": "code",
      "source": [
        ""
      ],
      "metadata": {
        "id": "bJxogPwglO5i"
      },
      "execution_count": null,
      "outputs": []
    }
  ]
}