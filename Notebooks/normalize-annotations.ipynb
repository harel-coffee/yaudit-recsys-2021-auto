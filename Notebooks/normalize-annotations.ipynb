{
  "cells": [
    {
      "cell_type": "markdown",
      "metadata": {
        "id": "MgY1-s4rycLY"
      },
      "source": [
        "# Normalization of labels for our annotated videos"
      ]
    },
    {
      "cell_type": "markdown",
      "metadata": {
        "id": "3Z9WihSAyfj3"
      },
      "source": [
        "This notebook contains code for normalizing our annotations and saving them in a unified file for easier work with them (mapping, analysing, etc.)"
      ]
    },
    {
      "cell_type": "code",
      "execution_count": 1,
      "metadata": {
        "id": "RE9D-LTxpnzg"
      },
      "outputs": [],
      "source": [
        "import os\n",
        "import pandas as pd\n",
        "import numpy as np"
      ]
    },
    {
      "cell_type": "code",
      "execution_count": 2,
      "metadata": {
        "id": "wIuCl0X9cFHU"
      },
      "outputs": [],
      "source": [
        "RAW_DATA_PATH = os.path.join('..', 'Data', 'raw_data')\n",
        "NORMALIZED_DATA_PATH = os.path.join('..', 'Data', 'normalized_data')"
      ]
    },
    {
      "cell_type": "markdown",
      "metadata": {
        "id": "i6NLE3fUyrh1"
      },
      "source": [
        "## Load data"
      ]
    },
    {
      "cell_type": "code",
      "execution_count": 3,
      "metadata": {
        "id": "1mahrFk_cKaA"
      },
      "outputs": [],
      "source": [
        "recommendations = pd.read_csv(os.path.join(RAW_DATA_PATH, 'recommendations.csv'))\n",
        "search_results = pd.read_csv(os.path.join(RAW_DATA_PATH, 'search_results.csv'))"
      ]
    },
    {
      "cell_type": "markdown",
      "metadata": {
        "id": "CZLCUsF_d8yG"
      },
      "source": [
        "Drop videos where no annotation was given"
      ]
    },
    {
      "cell_type": "code",
      "execution_count": 4,
      "metadata": {
        "id": "jWD9sw6tduQh"
      },
      "outputs": [],
      "source": [
        "recommendations = recommendations.loc[recommendations['annotation'] != -2.0]\n",
        "search_results = search_results.loc[search_results['annotation'] != -2.0]"
      ]
    },
    {
      "cell_type": "code",
      "execution_count": 5,
      "metadata": {
        "id": "TaP-lqPrd0fg"
      },
      "outputs": [],
      "source": [
        "combined = pd.concat([recommendations, search_results])"
      ]
    },
    {
      "cell_type": "markdown",
      "metadata": {
        "id": "SJzivnjYywCn"
      },
      "source": [
        "## Aggregate all annotations for individual videos"
      ]
    },
    {
      "cell_type": "code",
      "execution_count": 6,
      "metadata": {
        "id": "B2NnUNJEcY2-"
      },
      "outputs": [],
      "source": [
        "video_to_label_mapping = {}\n",
        "\n",
        "for index, video in combined.iterrows():\n",
        "    if video['youtube_id'] not in video_to_label_mapping:\n",
        "        video_to_label_mapping[video['youtube_id']] = set()\n",
        "    video_to_label_mapping[video['youtube_id']].add(video['annotation'])"
      ]
    },
    {
      "cell_type": "markdown",
      "metadata": {
        "id": "NnVZSi2oy37b"
      },
      "source": [
        "## Map aggregated annotations to final normalized label"
      ]
    },
    {
      "cell_type": "code",
      "execution_count": 7,
      "metadata": {
        "id": "AL7wmKDIePVt"
      },
      "outputs": [],
      "source": [
        "normalization_mapping = {\n",
        "    -1: -1,\n",
        "    0: 0,\n",
        "    1: 1,\n",
        "    2: -1,\n",
        "    3: 0,\n",
        "    4: 1,\n",
        "    5: 0,\n",
        "    6: np.NaN,\n",
        "    7: np.NaN,\n",
        "    8: np.NaN\n",
        "}\n",
        "\n",
        "semi_normalization_mapping = {\n",
        "    -1: \"debunking\",\n",
        "    0: \"neutral\",\n",
        "    1: \"promoting\",\n",
        "    2: \"debunking\",\n",
        "    3: \"neutral\",\n",
        "    4: \"promoting\",\n",
        "    5: \"not about misinfo\",\n",
        "    6: \"other\",\n",
        "    7: \"other\",\n",
        "    8: \"other\"\n",
        "}"
      ]
    },
    {
      "cell_type": "code",
      "execution_count": 8,
      "metadata": {
        "id": "4NtZ7BTPc--Y"
      },
      "outputs": [],
      "source": [
        "normalized_unique_videos = []\n",
        "\n",
        "for video_id, annotations in video_to_label_mapping.items():\n",
        "    rating = 7\n",
        "    # Video has only one unique annotation\n",
        "    if len(annotations) == 1:\n",
        "        rating = annotations.pop()\n",
        "    # Video has more than one unique annotations\n",
        "    else:\n",
        "        if bool(set([1, 4]) & annotations) and not bool(set([-1, 2]) & annotations):\n",
        "            rating = 1\n",
        "        elif bool(set([-1, 2]) & annotations) and not bool(set([1, 4]) & annotations):\n",
        "            rating = -1\n",
        "        elif bool(set([0, 3, 5]) & annotations) and not bool(set([-1, 2, 1, 4]) & annotations):\n",
        "            rating = 0\n",
        "        # Video id \"az6c7negl6o\" is problematic in our raw data, containing both promoting and debunking views. Our consensus is the video is promoting\n",
        "        elif (video_id == 'az6c7negl6o'):\n",
        "            rating = 1\n",
        "    normalized_rating = normalization_mapping[rating]\n",
        "    semi_normalized_rating = semi_normalization_mapping[rating]\n",
        "    normalized_unique_videos.append((video_id, semi_normalized_rating, normalized_rating))"
      ]
    },
    {
      "cell_type": "markdown",
      "metadata": {
        "id": "QVNDoUYYy7eF"
      },
      "source": [
        "## Save data with normalized labels"
      ]
    },
    {
      "cell_type": "code",
      "execution_count": 9,
      "metadata": {
        "colab": {
          "base_uri": "https://localhost:8080/",
          "height": 423
        },
        "id": "npNiya8Nimv-",
        "outputId": "b53adf81-ce3e-4166-d615-2de936a86ee5"
      },
      "outputs": [
        {
          "data": {
            "text/html": [
              "<div>\n",
              "<style scoped>\n",
              "    .dataframe tbody tr th:only-of-type {\n",
              "        vertical-align: middle;\n",
              "    }\n",
              "\n",
              "    .dataframe tbody tr th {\n",
              "        vertical-align: top;\n",
              "    }\n",
              "\n",
              "    .dataframe thead th {\n",
              "        text-align: right;\n",
              "    }\n",
              "</style>\n",
              "<table border=\"1\" class=\"dataframe\">\n",
              "  <thead>\n",
              "    <tr style=\"text-align: right;\">\n",
              "      <th></th>\n",
              "      <th>youtube_id</th>\n",
              "      <th>original_label</th>\n",
              "      <th>normalized_label</th>\n",
              "    </tr>\n",
              "  </thead>\n",
              "  <tbody>\n",
              "    <tr>\n",
              "      <th>0</th>\n",
              "      <td>W0lWsqAwYwY</td>\n",
              "      <td>not about misinfo</td>\n",
              "      <td>0.0</td>\n",
              "    </tr>\n",
              "    <tr>\n",
              "      <th>1</th>\n",
              "      <td>6mMK6iSZsAs</td>\n",
              "      <td>debunking</td>\n",
              "      <td>-1.0</td>\n",
              "    </tr>\n",
              "    <tr>\n",
              "      <th>2</th>\n",
              "      <td>WYPNjSoDrqw</td>\n",
              "      <td>not about misinfo</td>\n",
              "      <td>0.0</td>\n",
              "    </tr>\n",
              "    <tr>\n",
              "      <th>3</th>\n",
              "      <td>JHQ8UAjoVVc</td>\n",
              "      <td>not about misinfo</td>\n",
              "      <td>0.0</td>\n",
              "    </tr>\n",
              "    <tr>\n",
              "      <th>4</th>\n",
              "      <td>9vJRopau0g0</td>\n",
              "      <td>not about misinfo</td>\n",
              "      <td>0.0</td>\n",
              "    </tr>\n",
              "    <tr>\n",
              "      <th>...</th>\n",
              "      <td>...</td>\n",
              "      <td>...</td>\n",
              "      <td>...</td>\n",
              "    </tr>\n",
              "    <tr>\n",
              "      <th>2909</th>\n",
              "      <td>BIDlAPNwbS8</td>\n",
              "      <td>not about misinfo</td>\n",
              "      <td>0.0</td>\n",
              "    </tr>\n",
              "    <tr>\n",
              "      <th>2910</th>\n",
              "      <td>8dpkmUjJ8xU</td>\n",
              "      <td>debunking</td>\n",
              "      <td>-1.0</td>\n",
              "    </tr>\n",
              "    <tr>\n",
              "      <th>2911</th>\n",
              "      <td>WCwXJMVVdck</td>\n",
              "      <td>not about misinfo</td>\n",
              "      <td>0.0</td>\n",
              "    </tr>\n",
              "    <tr>\n",
              "      <th>2912</th>\n",
              "      <td>Ms65JBrevYU</td>\n",
              "      <td>not about misinfo</td>\n",
              "      <td>0.0</td>\n",
              "    </tr>\n",
              "    <tr>\n",
              "      <th>2913</th>\n",
              "      <td>WF06IhEUDfI</td>\n",
              "      <td>debunking</td>\n",
              "      <td>-1.0</td>\n",
              "    </tr>\n",
              "  </tbody>\n",
              "</table>\n",
              "<p>2914 rows × 3 columns</p>\n",
              "</div>"
            ],
            "text/plain": [
              "       youtube_id     original_label  normalized_label\n",
              "0     W0lWsqAwYwY  not about misinfo               0.0\n",
              "1     6mMK6iSZsAs          debunking              -1.0\n",
              "2     WYPNjSoDrqw  not about misinfo               0.0\n",
              "3     JHQ8UAjoVVc  not about misinfo               0.0\n",
              "4     9vJRopau0g0  not about misinfo               0.0\n",
              "...           ...                ...               ...\n",
              "2909  BIDlAPNwbS8  not about misinfo               0.0\n",
              "2910  8dpkmUjJ8xU          debunking              -1.0\n",
              "2911  WCwXJMVVdck  not about misinfo               0.0\n",
              "2912  Ms65JBrevYU  not about misinfo               0.0\n",
              "2913  WF06IhEUDfI          debunking              -1.0\n",
              "\n",
              "[2914 rows x 3 columns]"
            ]
          },
          "execution_count": 9,
          "metadata": {},
          "output_type": "execute_result"
        }
      ],
      "source": [
        "data_with_normalized_labels = pd.DataFrame(normalized_unique_videos, columns=['youtube_id', 'original_label', 'normalized_label'])\n",
        "data_with_normalized_labels"
      ]
    },
    {
      "cell_type": "code",
      "execution_count": 10,
      "metadata": {},
      "outputs": [
        {
          "data": {
            "text/plain": [
              "not about misinfo    1827\n",
              "debunking             628\n",
              "promoting             244\n",
              "neutral               186\n",
              "other                  29\n",
              "Name: original_label, dtype: int64"
            ]
          },
          "execution_count": 10,
          "metadata": {},
          "output_type": "execute_result"
        }
      ],
      "source": [
        "data_with_normalized_labels.original_label.value_counts()"
      ]
    },
    {
      "cell_type": "code",
      "execution_count": 11,
      "metadata": {},
      "outputs": [
        {
          "data": {
            "text/plain": [
              " 0.0    2013\n",
              "-1.0     628\n",
              " 1.0     244\n",
              "Name: normalized_label, dtype: int64"
            ]
          },
          "execution_count": 11,
          "metadata": {},
          "output_type": "execute_result"
        }
      ],
      "source": [
        "data_with_normalized_labels.normalized_label.value_counts()"
      ]
    },
    {
      "cell_type": "code",
      "execution_count": 12,
      "metadata": {
        "id": "IXLJRvLTjiTM"
      },
      "outputs": [],
      "source": [
        "data_with_normalized_labels.to_csv(os.path.join(NORMALIZED_DATA_PATH, 'encountered_videos.csv'))"
      ]
    }
  ],
  "metadata": {
    "colab": {
      "collapsed_sections": [],
      "name": "normalize-annotations.ipynb",
      "provenance": []
    },
    "kernelspec": {
      "display_name": "Python 3.8.10 ('.venv': venv)",
      "language": "python",
      "name": "python3"
    },
    "language_info": {
      "codemirror_mode": {
        "name": "ipython",
        "version": 3
      },
      "file_extension": ".py",
      "mimetype": "text/x-python",
      "name": "python",
      "nbconvert_exporter": "python",
      "pygments_lexer": "ipython3",
      "version": "3.8.10"
    },
    "vscode": {
      "interpreter": {
        "hash": "57e8ab2c44c7cc3097d31685c867aa29b59a70c4aee7409180d9015f3b8ee2df"
      }
    }
  },
  "nbformat": 4,
  "nbformat_minor": 0
}
